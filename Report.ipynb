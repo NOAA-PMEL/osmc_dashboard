{
 "cells": [
  {
   "cell_type": "code",
   "execution_count": 45,
   "metadata": {},
   "outputs": [],
   "source": [
    "import pandas as pd\n",
    "import numpy as np"
   ]
  },
  {
   "cell_type": "code",
   "execution_count": 46,
   "metadata": {},
   "outputs": [],
   "source": [
    "depth = pd.read_pickle('depth_data_latest.pkl')\n",
    "surface = pd.read_pickle('surface_data_latest.pkl')\n",
    "depth_locs = pd.read_pickle('depth_locations_latest.pkl')\n",
    "surface_locs = pd.read_pickle('surface_locations_latest.pkl')"
   ]
  },
  {
   "cell_type": "code",
   "execution_count": 47,
   "metadata": {},
   "outputs": [
    {
     "name": "stdout",
     "output_type": "stream",
     "text": [
      "\n",
      "All platform types reporting:\n",
      "\n",
      "AUTONOMOUS PINNIPEDS\n",
      "C-MAN WEATHER STATIONS\n",
      "CLIMATE REFERENCE MOORED BUOYS\n",
      "DRIFTING BUOYS (GENERIC)\n",
      "GLIDERS\n",
      "ICE BUOYS\n",
      "MOORED BUOYS (GENERIC)\n",
      "OCEAN TRANSPORT STATIONS (GENERIC)\n",
      "PROFILING FLOATS AND GLIDERS (GENERIC)\n",
      "SHIPS (GENERIC)\n",
      "SHORE AND BOTTOM STATIONS (GENERIC)\n",
      "TIDE GAUGE STATIONS (GENERIC)\n",
      "TROPICAL MOORED BUOYS\n",
      "UNKNOWN\n",
      "UNMANNED SURFACE VEHICLE\n",
      "VOLUNTEER OBSERVING SHIPS (GENERIC)\n",
      "VOSCLIM\n",
      "WEATHER BUOYS\n"
     ]
    }
   ],
   "source": [
    "dnames = list(depth['platform_type'].unique())\n",
    "snames = list(surface['platform_type'].unique())\n",
    "names = dnames + snames\n",
    "print(\"\\nAll platform types reporting:\\n\")\n",
    "all = sorted(set(names))\n",
    "print(*all, sep='\\n')"
   ]
  },
  {
   "cell_type": "code",
   "execution_count": 48,
   "metadata": {},
   "outputs": [
    {
     "name": "stdout",
     "output_type": "stream",
     "text": [
      "\n",
      "Number of Depth Platforms:\n",
      "\n"
     ]
    }
   ],
   "source": [
    "print(\"\\nNumber of Depth Platforms:\\n\")"
   ]
  },
  {
   "cell_type": "code",
   "execution_count": 49,
   "metadata": {},
   "outputs": [
    {
     "name": "stdout",
     "output_type": "stream",
     "text": [
      "PROFILING FLOATS AND GLIDERS (GENERIC)    2814\n",
      "AUTONOMOUS PINNIPEDS                        55\n",
      "TROPICAL MOORED BUOYS                       23\n",
      "GLIDERS                                     21\n",
      "CLIMATE REFERENCE MOORED BUOYS               1\n",
      "OCEAN TRANSPORT STATIONS (GENERIC)           1\n"
     ]
    }
   ],
   "source": [
    "counts = depth_locs['platform_type'].value_counts()\n",
    "print(counts.to_string())"
   ]
  },
  {
   "cell_type": "code",
   "execution_count": 50,
   "metadata": {},
   "outputs": [
    {
     "name": "stdout",
     "output_type": "stream",
     "text": [
      "\n",
      "Number of Surface Platforms:\n",
      "\n",
      "DRIFTING BUOYS (GENERIC)               1731\n",
      "SHIPS (GENERIC)                        1079\n",
      "VOLUNTEER OBSERVING SHIPS (GENERIC)     433\n",
      "MOORED BUOYS (GENERIC)                  320\n",
      "TIDE GAUGE STATIONS (GENERIC)           270\n",
      "C-MAN WEATHER STATIONS                  188\n",
      "VOSCLIM                                  99\n",
      "WEATHER BUOYS                            91\n",
      "TROPICAL MOORED BUOYS                    74\n",
      "SHORE AND BOTTOM STATIONS (GENERIC)      42\n",
      "ICE BUOYS                                17\n",
      "UNMANNED SURFACE VEHICLE                  4\n",
      "UNKNOWN                                   3\n"
     ]
    }
   ],
   "source": [
    "print('\\nNumber of Surface Platforms:\\n')\n",
    "scounts = surface_locs['platform_type'].value_counts()\n",
    "print(scounts.to_string())"
   ]
  },
  {
   "cell_type": "code",
   "execution_count": 55,
   "metadata": {},
   "outputs": [
    {
     "name": "stdout",
     "output_type": "stream",
     "text": [
      "\n",
      "Number of Observations:\n",
      "\n",
      "Depth Platforms:\t4,047,116\n",
      "Surface Platforms:\t1,862,738\n"
     ]
    }
   ],
   "source": [
    "print(\"\\nNumber of Observations:\")\n",
    "print(\"\\nDepth Platforms:\\t\" + format(depth.shape[0],',d'))\n",
    "print(\"Surface Platforms:\\t\" + format(surface.shape[0],',d'))"
   ]
  }
 ],
 "metadata": {
  "kernelspec": {
   "display_name": "Python 3",
   "language": "python",
   "name": "python3"
  },
  "language_info": {
   "codemirror_mode": {
    "name": "ipython",
    "version": 3
   },
   "file_extension": ".py",
   "mimetype": "text/x-python",
   "name": "python",
   "nbconvert_exporter": "python",
   "pygments_lexer": "ipython3",
   "version": "3.7.7"
  }
 },
 "nbformat": 4,
 "nbformat_minor": 4
}
